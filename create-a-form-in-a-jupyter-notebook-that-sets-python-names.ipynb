{
 "cells": [
  {
   "cell_type": "markdown",
   "metadata": {},
   "source": [
    "## Jupyter Notebook: Javascript/Python Bi-directional Communication\n",
    "\n",
    "### Interact with this notebook on Binder [here](https://mybinder.org/v2/gh/dm-wyncode/zipped-iterables-binder-notebooks/master)."
   ]
  },
  {
   "cell_type": "code",
   "execution_count": 15,
   "metadata": {},
   "outputs": [
    {
     "name": "stdout",
     "output_type": "stream",
     "text": [
      "None\n"
     ]
    }
   ],
   "source": [
    "# define a Python variable\n",
    "\n",
    "foo = None\n",
    "print(foo)"
   ]
  },
  {
   "cell_type": "markdown",
   "metadata": {},
   "source": [
    "## Execute JavaScript in the cell by using `%%javascript` magic."
   ]
  },
  {
   "cell_type": "code",
   "execution_count": 16,
   "metadata": {},
   "outputs": [
    {
     "data": {
      "application/javascript": [
       "\n",
       "const kernel = IPython.notebook.kernel;\n",
       "//The string passed to the execute function has to be valid Python.\n",
       "kernel.execute('foo = \"Hello, from the browser\\'s JavaScript world.\"');\n"
      ],
      "text/plain": [
       "<IPython.core.display.Javascript object>"
      ]
     },
     "metadata": {},
     "output_type": "display_data"
    }
   ],
   "source": [
    "%%javascript\n",
    "\n",
    "const kernel = IPython.notebook.kernel;\n",
    "//The string passed to the execute function has to be valid Python.\n",
    "kernel.execute('foo = \"Hello, from the browser\\'s JavaScript world.\"');"
   ]
  },
  {
   "cell_type": "markdown",
   "metadata": {},
   "source": [
    "## NOTE: If you run all the cells at once, the variable is not set.\n",
    "\n",
    "This is likely due to the async nature of the JS runtime environment in the browser.\n",
    "\n",
    "This demo works best by running one cell at a time."
   ]
  },
  {
   "cell_type": "code",
   "execution_count": 17,
   "metadata": {},
   "outputs": [
    {
     "name": "stdout",
     "output_type": "stream",
     "text": [
      "Hello, from the browser's JavaScript world.\n"
     ]
    }
   ],
   "source": [
    "# The Javascript above runs async. Wait for it to finish.\n",
    "print(foo)"
   ]
  },
  {
   "cell_type": "markdown",
   "metadata": {},
   "source": [
    "The Python variable `foo` was set to \"Hello, from the browser's JavaScript world.\" by the JavaScript environment."
   ]
  },
  {
   "cell_type": "markdown",
   "metadata": {},
   "source": [
    "## Display a button by using `%%html` magic.\n",
    "\n",
    "**Note: After this notebook is parsed into a Nikola blog post, the button does not function.**\n",
    "\n",
    "Try out the executable version of this notebook [here](https://mybinder.org/v2/gh/dm-wyncode/zipped-iterables-binder-notebooks/master)."
   ]
  },
  {
   "cell_type": "code",
   "execution_count": 18,
   "metadata": {},
   "outputs": [
    {
     "data": {
      "text/html": [
       "<script>\n",
       "//Using let and const becomes problematic. Have to reload after changes.\n",
       "var   kernel = IPython.notebook.kernel,\n",
       "      //Convenient 'on' function way to add listeners to elements\n",
       "      on = (el, evt, fn, opts = {}) => {\n",
       "        const delegatorFn = e => e.target.matches(opts.target) && fn.call(e.target, e);\n",
       "        el.addEventListener(evt, opts.target ? delegatorFn : fn, opts.options || false);\n",
       "        if (opts.target) return delegatorFn;\n",
       "      },\n",
       "      prefix = 'button click count: ',\n",
       "      countElement = document.getElementById('count'),\n",
       "      count = parseInt(countElement.textContent, 10) || 0,\n",
       "      increment = () => {\n",
       "          \n",
       "          count += 1;\n",
       "          countElement.textContent = count;\n",
       "          //The string passed to execute must be valid Python\n",
       "          kernel.execute(`foo = ${count}`);\n",
       "          setContent();\n",
       "      },\n",
       "      setContent = () => countElement.textContent = `${prefix}${count}`;\n",
       "on(document.getElementById('increment'), 'click', increment);\n",
       "setContent()\n",
       "</script>\n",
       "<p id=\"count\"></p>\n",
       "<button id='increment' type=\"submit\" class=\"btn btn-primary\">\n",
       "    Submit\n",
       "</button>\n"
      ],
      "text/plain": [
       "<IPython.core.display.HTML object>"
      ]
     },
     "metadata": {},
     "output_type": "display_data"
    }
   ],
   "source": [
    "%%html\n",
    "<script>\n",
    "//Using let and const becomes problematic. Have to reload after changes.\n",
    "var   kernel = IPython.notebook.kernel,\n",
    "      //Convenient 'on' function way to add listeners to elements\n",
    "      on = (el, evt, fn, opts = {}) => {\n",
    "        const delegatorFn = e => e.target.matches(opts.target) && fn.call(e.target, e);\n",
    "        el.addEventListener(evt, opts.target ? delegatorFn : fn, opts.options || false);\n",
    "        if (opts.target) return delegatorFn;\n",
    "      },\n",
    "      prefix = 'button click count: ',\n",
    "      countElement = document.getElementById('count'),\n",
    "      count = parseInt(countElement.textContent, 10) || 0,\n",
    "      increment = () => {\n",
    "          \n",
    "          count += 1;\n",
    "          countElement.textContent = count;\n",
    "          //The string passed to execute must be valid Python\n",
    "          kernel.execute(`foo = ${count}`);\n",
    "          setContent();\n",
    "      },\n",
    "      setContent = () => countElement.textContent = `${prefix}${count}`;\n",
    "on(document.getElementById('increment'), 'click', increment);\n",
    "setContent()\n",
    "</script>\n",
    "<p id=\"count\"></p>\n",
    "<button id='increment' type=\"submit\" class=\"btn btn-primary\">\n",
    "    Submit\n",
    "</button>"
   ]
  },
  {
   "cell_type": "markdown",
   "metadata": {},
   "source": [
    "## Observe that the Python variable was set inside of the browser's "
   ]
  },
  {
   "cell_type": "code",
   "execution_count": 19,
   "metadata": {},
   "outputs": [
    {
     "name": "stdout",
     "output_type": "stream",
     "text": [
      "The button was clicked 9 times.\n"
     ]
    }
   ],
   "source": [
    "print(f\"The button was clicked {foo} times.\")"
   ]
  }
 ],
 "metadata": {
  "kernelspec": {
   "display_name": "Python 3",
   "language": "python",
   "name": "python3"
  },
  "language_info": {
   "codemirror_mode": {
    "name": "ipython",
    "version": 3
   },
   "file_extension": ".py",
   "mimetype": "text/x-python",
   "name": "python",
   "nbconvert_exporter": "python",
   "pygments_lexer": "ipython3",
   "version": "3.8.0b4"
  },
  "nikola": {
   "category": "",
   "date": "2019-10-06 15:10:09 UTC",
   "description": "Use a Jupyter notebook to analyze the cookiecutter.json file and then reset its values using a form in a Jupyter notebook.",
   "link": "",
   "slug": "create-a-form-in-a-jupyter-notebook-that-sets-python-names",
   "tags": "code, jupyter notebook, python, javascript",
   "title": "Create a Form in a Jupyter Notebook that sets Python Names",
   "type": "text"
  }
 },
 "nbformat": 4,
 "nbformat_minor": 2
}
