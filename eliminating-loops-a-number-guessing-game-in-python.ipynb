{
 "cells": [
  {
   "cell_type": "markdown",
   "metadata": {},
   "source": [
    "## Interact with this notebook on Binder [here](https://mybinder.org/v2/gh/dm-wyncode/zipped-iterables-binder-notebooks/master)."
   ]
  },
  {
   "cell_type": "markdown",
   "metadata": {},
   "source": [
    ">Just for fun, let us take a quick look at how we could take out all loops from any Python program. Most of the time this is a bad idea, both for readability and performance, but it is worth looking at how simple it is to do in a systematic fashion as background to contemplate those cases where it is actually a good idea.\n",
    "\n",
    "Excerpt From: David Mertz. [Functional Programming in Python](http://freecomputerbooks.com/Functional-Programming-in-Python.html#downloadLinks)"
   ]
  },
  {
   "cell_type": "code",
   "execution_count": 2,
   "metadata": {},
   "outputs": [],
   "source": [
    "from IPython.display import display, Image"
   ]
  },
  {
   "cell_type": "code",
   "execution_count": 3,
   "metadata": {},
   "outputs": [
    {
     "data": {
      "text/html": [
       "<img src=\"https://minio.apps.selfip.com/mymedia/screenshots/functional_programming_in_python.png\"/>"
      ],
      "text/plain": [
       "<IPython.core.display.Image object>"
      ]
     },
     "metadata": {},
     "output_type": "display_data"
    }
   ],
   "source": [
    "display(\n",
    "    Image(\n",
    "        url=\"https://minio.apps.selfip.com/mymedia/screenshots/functional_programming_in_python.png\"\n",
    "    )\n",
    ")"
   ]
  },
  {
   "cell_type": "markdown",
   "metadata": {},
   "source": [
    "# Basic REPL"
   ]
  },
  {
   "cell_type": "code",
   "execution_count": 4,
   "metadata": {},
   "outputs": [
    {
     "name": "stdout",
     "output_type": "stream",
     "text": [
      "Type something:\n",
      "Hello,\n",
      "output: Hello,\n",
      "Type something:\n",
      "world.\n",
      "output: world.\n",
      "Type something:\n",
      "quit\n",
      "output: quit\n"
     ]
    },
    {
     "data": {
      "text/plain": [
       "True"
      ]
     },
     "execution_count": 4,
     "metadata": {},
     "output_type": "execute_result"
    }
   ],
   "source": [
    "def identity(item):\n",
    "    print(f\"output: {item}\")\n",
    "    return item\n",
    "\n",
    "\n",
    "echo = lambda: identity(input(\"Type something:\\r\")) == \"quit\" or echo()\n",
    "echo()"
   ]
  },
  {
   "cell_type": "code",
   "execution_count": 5,
   "metadata": {},
   "outputs": [
    {
     "name": "stdout",
     "output_type": "stream",
     "text": [
      "Type something:\n",
      "1\n",
      "your guess: \"1\" should be higher\n",
      "Type something:\n",
      "5\n",
      "your guess: \"5\" should be lower\n",
      "Type something:\n",
      "3\n",
      "your guess: \"3\" should be lower\n",
      "Type something:\n",
      "2\n"
     ]
    },
    {
     "data": {
      "text/plain": [
       "True"
      ]
     },
     "execution_count": 5,
     "metadata": {},
     "output_type": "execute_result"
    }
   ],
   "source": [
    "import random\n",
    "\n",
    "EXIT_WORD = \"quit\"\n",
    "EXIT_WORDS = {EXIT_WORD, \"q\", \"bye\", \"exit\"}\n",
    "ANSWER = random.randrange(1, 11)\n",
    "EXIT_WORDS.update([str(ANSWER)])\n",
    "\n",
    "\n",
    "def get_verification(guess):\n",
    "    guess_int = int(guess)\n",
    "    if guess_int == ANSWER:\n",
    "        return EXIT_WORD\n",
    "    return \"higher\" if guess_int < ANSWER else \"lower\"\n",
    "\n",
    "\n",
    "def identity(item):\n",
    "    verification = hint = get_verification(item)\n",
    "    if verification != EXIT_WORD:\n",
    "        print(f'your guess: \"{item}\" should be {hint}')\n",
    "\n",
    "    return verification\n",
    "\n",
    "\n",
    "echo = lambda: identity(input(\"Type something:\\r\")) in EXIT_WORDS or echo()\n",
    "echo()"
   ]
  },
  {
   "cell_type": "markdown",
   "metadata": {},
   "source": [
    "## Make the game more complex. It now has state."
   ]
  },
  {
   "cell_type": "code",
   "execution_count": 6,
   "metadata": {},
   "outputs": [
    {
     "name": "stdout",
     "output_type": "stream",
     "text": [
      "Type a number between 1 and 10:\n",
      "1\n",
      "Guess higher than \"1\".\n",
      "Type a number between 1 and 10:\n",
      "5\n",
      "Guess higher than \"5\".\n",
      "Type a number between 1 and 10:\n",
      "7\n",
      "Guess higher than \"7\".\n",
      "Type a number between 1 and 10:\n",
      "10\n",
      "Guess lower than \"10\".\n"
     ]
    },
    {
     "data": {
      "text/plain": [
       "True"
      ]
     },
     "execution_count": 6,
     "metadata": {},
     "output_type": "execute_result"
    }
   ],
   "source": [
    "import random\n",
    "\n",
    "EXIT_WORDS = {\"quit\", \"q\", \"bye\", \"exit\"}\n",
    "START, STOP = 1, 11\n",
    "END = STOP - 1\n",
    "ANSWER = random.randrange(START, STOP)\n",
    "EXIT_WORDS.update([str(ANSWER)])\n",
    "\n",
    "GUESSES = 3\n",
    "counter = 0\n",
    "\n",
    "\n",
    "def count():\n",
    "    global counter\n",
    "    counter += 1\n",
    "\n",
    "\n",
    "def get_message(guess):\n",
    "    if guess in EXIT_WORDS:\n",
    "        return guess\n",
    "    guess_int = int(guess)\n",
    "    if guess_int == ANSWER:\n",
    "        return f'The answer \"{guess_int}\" is correct.'\n",
    "    hint = \"higher\" if guess_int < ANSWER else \"lower\"\n",
    "    return f'Guess {hint} than \"{guess}\".'\n",
    "\n",
    "\n",
    "def identity(item):\n",
    "    print(get_message(item))\n",
    "    count()\n",
    "    return item\n",
    "\n",
    "\n",
    "echo = (\n",
    "    lambda: any(\n",
    "        (\n",
    "            identity(input(f\"Type a number between {START} and {END}:\\r\"))\n",
    "            in EXIT_WORDS,\n",
    "            counter > GUESSES,\n",
    "        )\n",
    "    )\n",
    "    or echo()\n",
    ")\n",
    "echo()"
   ]
  },
  {
   "cell_type": "markdown",
   "metadata": {},
   "source": [
    "## Refactor to handle malformed input.\n",
    "\n",
    "Add a `try, except` where the `guess` is cast to an `int`."
   ]
  },
  {
   "cell_type": "code",
   "execution_count": 7,
   "metadata": {},
   "outputs": [
    {
     "name": "stdout",
     "output_type": "stream",
     "text": [
      "Type a number between 1 and 10:\n",
      "cat\n",
      "\"guess\" is not valid input.\n",
      "Type a number between 1 and 10:\n",
      "1\n",
      "Guess higher than \"1\".\n",
      "Type a number between 1 and 10:\n",
      "10\n",
      "Guess lower than \"10\".\n",
      "Maximum guesses of \"3\" exceeded.\n"
     ]
    },
    {
     "data": {
      "text/plain": [
       "'The answer is 7'"
      ]
     },
     "execution_count": 7,
     "metadata": {},
     "output_type": "execute_result"
    }
   ],
   "source": [
    "import random\n",
    "\n",
    "EXIT_WORDS = {\"quit\", \"q\", \"bye\", \"exit\"}\n",
    "START, STOP = 1, 11\n",
    "END = STOP - 1\n",
    "ANSWER = random.randrange(START, STOP)\n",
    "EXIT_WORDS.update([str(ANSWER)])\n",
    "\n",
    "MAX_GUESSES = 3\n",
    "counter = 0\n",
    "\n",
    "\n",
    "def count():\n",
    "    global counter\n",
    "    counter += 1\n",
    "\n",
    "\n",
    "def get_message(guess):\n",
    "    if guess in EXIT_WORDS:\n",
    "        return guess\n",
    "    try:\n",
    "        guess_int = int(guess)\n",
    "    except ValueError:\n",
    "        return f'\"guess\" is not valid input.'\n",
    "    if guess_int == ANSWER:\n",
    "        return f'The answer \"{guess_int}\" is correct.'\n",
    "    hint = \"higher\" if guess_int < ANSWER else \"lower\"\n",
    "    return f'Guess {hint} than \"{guess}\".'\n",
    "\n",
    "\n",
    "def identity(item):\n",
    "    print(get_message(item))\n",
    "    count()\n",
    "    return item\n",
    "\n",
    "\n",
    "echo = (\n",
    "    lambda: any(\n",
    "        (\n",
    "            identity(input(f\"Type a number between {START} and {END}:\\r\"))\n",
    "            in EXIT_WORDS,\n",
    "            counter >= MAX_GUESSES,\n",
    "        )\n",
    "    )\n",
    "    or echo()\n",
    ")\n",
    "echo()\n",
    "if counter >= GUESSES:\n",
    "    print(f'Maximum guesses of \"{MAX_GUESSES}\" exceeded.')\n",
    "f\"The answer is {ANSWER}\""
   ]
  },
  {
   "cell_type": "markdown",
   "metadata": {},
   "source": [
    "## Refactor to remove the lambda.\n",
    "\n",
    "Add a `try, except` where the `guess` is cast to an `int`."
   ]
  },
  {
   "cell_type": "code",
   "execution_count": 8,
   "metadata": {},
   "outputs": [
    {
     "name": "stdout",
     "output_type": "stream",
     "text": [
      "Type a number between 1 and 10:\n",
      "1\n",
      "Guess higher than \"1\".\n",
      "Type a number between 1 and 10:\n",
      "10\n",
      "Guess lower than \"10\".\n",
      "Type a number between 1 and 10:\n",
      "5\n",
      "5\n",
      "Maximum guesses of \"3\" exceeded.\n"
     ]
    },
    {
     "data": {
      "text/plain": [
       "'The answer is 5'"
      ]
     },
     "execution_count": 8,
     "metadata": {},
     "output_type": "execute_result"
    }
   ],
   "source": [
    "import random\n",
    "\n",
    "EXIT_WORDS = {\"quit\", \"q\", \"bye\", \"exit\"}\n",
    "START, STOP = 1, 11\n",
    "END = STOP - 1\n",
    "ANSWER = random.randrange(START, STOP)\n",
    "EXIT_WORDS.update([str(ANSWER)])\n",
    "\n",
    "MAX_GUESSES = 3\n",
    "counter = 0\n",
    "\n",
    "\n",
    "def count():\n",
    "    global counter\n",
    "    counter += 1\n",
    "\n",
    "\n",
    "def get_message(guess):\n",
    "    if guess in EXIT_WORDS:\n",
    "        return guess\n",
    "    try:\n",
    "        guess_int = int(guess)\n",
    "    except ValueError:\n",
    "        return f'\"guess\" is not valid input.'\n",
    "    if guess_int == ANSWER:\n",
    "        return f'The answer \"{guess_int}\" is correct.'\n",
    "    hint = \"higher\" if guess_int < ANSWER else \"lower\"\n",
    "    return f'Guess {hint} than \"{guess}\".'\n",
    "\n",
    "\n",
    "def identity(item):\n",
    "    print(get_message(item))\n",
    "    count()\n",
    "    return item\n",
    "\n",
    "\n",
    "def echo():\n",
    "    return (\n",
    "        any(\n",
    "            (\n",
    "                identity(input(f\"Type a number between {START} and {END}:\\r\"))\n",
    "                in EXIT_WORDS,\n",
    "                counter >= MAX_GUESSES,\n",
    "            )\n",
    "        )\n",
    "        or echo()\n",
    "    )\n",
    "\n",
    "\n",
    "echo()\n",
    "if counter >= GUESSES:\n",
    "    print(f'Maximum guesses of \"{MAX_GUESSES}\" exceeded.')\n",
    "f\"The answer is {ANSWER}\""
   ]
  }
 ],
 "metadata": {
  "kernelspec": {
   "display_name": "Python 3",
   "language": "python",
   "name": "python3"
  },
  "language_info": {
   "codemirror_mode": {
    "name": "ipython",
    "version": 3
   },
   "file_extension": ".py",
   "mimetype": "text/x-python",
   "name": "python",
   "nbconvert_exporter": "python",
   "pygments_lexer": "ipython3",
   "version": "3.8.0b4"
  },
  "nikola": {
   "category": "",
   "date": "2019-10-03 15:26:29 UTC",
   "description": "Just for fun, let us take a quick look at how we could take out all loops from any Python program.",
   "link": "",
   "previewimage": "http://bit.ly/2oxEMQ0",
   "slug": "eliminating-loops-a-number-guessing-game-in-python",
   "tags": "python, code, functional style",
   "title": "Eliminating Loops: A Number Guessing Game in Python",
   "type": "text"
  }
 },
 "nbformat": 4,
 "nbformat_minor": 2
}
