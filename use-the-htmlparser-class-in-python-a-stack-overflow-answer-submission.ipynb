{
 "cells": [
  {
   "cell_type": "markdown",
   "metadata": {},
   "source": [
    "# A solution to a Stack Overflow question."
   ]
  },
  {
   "cell_type": "markdown",
   "metadata": {},
   "source": [
    "* The question: [Get all groups from a long line (of HTML)](https://stackoverflow.com/q/58614847/1913726)\n",
    "* The solution: [My Solution: Don't use regex.](https://stackoverflow.com/a/58615217/1913726)\n",
    "\n",
    "## Why parsing HTML with regular expressions is an anti-pattern.\n",
    "\n",
    "* [RegEx match open tags except XHTML self-contained tags](https://stackoverflow.com/a/1732454/1913726)"
   ]
  },
  {
   "cell_type": "code",
   "execution_count": 6,
   "metadata": {},
   "outputs": [
    {
     "name": "stdout",
     "output_type": "stream",
     "text": [
      "['11r11', '222', '3333a333', '44a444444']\n"
     ]
    }
   ],
   "source": [
    "from html.parser import HTMLParser\n",
    "\n",
    "class MyHTMLParser(HTMLParser):\n",
    "\n",
    "    def __init__(self):\n",
    "        super().__init__()\n",
    "        self.data = []\n",
    "        self.a_tag = None\n",
    "\n",
    "    def handle_starttag(self, tag, attrs):\n",
    "        if tag == \"a\":\n",
    "            self.a_tag = True\n",
    "\n",
    "    def handle_data(self, data):\n",
    "        if self.a_tag:\n",
    "            self.data.append(data)\n",
    "            self.a_tag = False\n",
    "\n",
    "string = \"\"\"aaa<a class=\"c-item_foot\" href=\"/news/a/\">11r11</a></div>bbb<a class=\"c-item_foot\" href=\"/news/b/\">222</a></div>ccgc<a class=\"c-item_foot\" href=\"/news/c/\">3333a333</a></div>ddd<a class=\"c-item_foot\" href=\"/news/d/\">44a444444</a></div>eee\"\"\"\n",
    "parser = MyHTMLParser()\n",
    "parser.feed(string)\n",
    "print(parser.data)"
   ]
  }
 ],
 "metadata": {
  "kernelspec": {
   "display_name": "Python 3",
   "language": "python",
   "name": "python3"
  },
  "language_info": {
   "codemirror_mode": {
    "name": "ipython",
    "version": 3
   },
   "file_extension": ".py",
   "mimetype": "text/x-python",
   "name": "python",
   "nbconvert_exporter": "python",
   "pygments_lexer": "ipython3",
   "version": "3.7.2"
  },
  "nikola": {
   "category": "Stack Overflow Solutions",
   "date": "2019-10-29 21:10:47 UTC",
   "description": "Parsing HTML in Python with HTMLParser.",
   "link": "",
   "slug": "use-the-htmlparser-class-in-python-a-stack-overflow-answer-submission",
   "tags": "code, python, stackoverflow",
   "title": "Use the HTMLParser class in Python: a Stack Overflow Answer Submission",
   "type": "text"
  }
 },
 "nbformat": 4,
 "nbformat_minor": 2
}
