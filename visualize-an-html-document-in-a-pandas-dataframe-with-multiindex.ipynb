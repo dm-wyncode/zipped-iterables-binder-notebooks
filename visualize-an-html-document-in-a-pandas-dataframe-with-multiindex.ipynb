{
 "cells": [
  {
   "cell_type": "markdown",
   "metadata": {},
   "source": [
    "Write your post here."
   ]
  }
 ],
 "metadata": {
  "kernelspec": {
   "display_name": "Python 3",
   "env": {},
   "interrupt_mode": "signal",
   "language": "python",
   "metadata": {},
   "name": "python3"
  },
  "nikola": {
   "category": "",
   "date": "2019-10-26 14:39:05 UTC",
   "description": "",
   "link": "",
   "slug": "visualize-an-html-document-in-a-pandas-dataframe-with-multiindex",
   "tags": "",
   "title": "Visualize an HTML document in a Pandas Dataframe with MultiIndex",
   "type": "text"
  }
 },
 "nbformat": 4,
 "nbformat_minor": 2
}
