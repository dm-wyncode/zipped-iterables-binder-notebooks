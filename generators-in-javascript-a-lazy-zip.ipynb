{
 "cells": [
  {
   "cell_type": "code",
   "execution_count": 60,
   "metadata": {},
   "outputs": [],
   "source": [
    "function *zip(...[first, ...iterables]){\n",
    "    const length = iterables.length;\n",
    "    let item;    \n",
    "    while(true){\n",
    "        item = first.next();\n",
    "        if (item.done) break;\n",
    "        const acc = [];\n",
    "        for(let i = 0; i < length; i++){\n",
    "            const item_ = iterables[i].next();\n",
    "            acc.push(item_.value);\n",
    "        }\n",
    "        yield [item.value, ...acc];\n",
    "    }\n",
    "}"
   ]
  },
  {
   "cell_type": "code",
   "execution_count": 61,
   "metadata": {},
   "outputs": [],
   "source": [
    "function *iter(item){\n",
    "    yield* Array.from(item);\n",
    "}"
   ]
  },
  {
   "cell_type": "code",
   "execution_count": 108,
   "metadata": {},
   "outputs": [],
   "source": [
    "function *range(start, stop, step=1){\n",
    "    if(step < 1) throw new Error('step must be 1 or greater.');\n",
    "    if(stop <= start) throw new Error('stop must be larger than start');\n",
    "    yield* Array.from({length: ((stop - start) / step)}, (_, i) => start + (i * step));\n",
    "}"
   ]
  },
  {
   "cell_type": "markdown",
   "metadata": {},
   "source": [
    "Convenient method to remember where the letter 'A' or 'a' starts in ASCII table.\n",
    "\n",
    "ASCII uses the last 7 bits of a byte (8 bits): `00000000`\n",
    "\n",
    "Set the first bit to '0' and the second bit to '1'.\n",
    "\n",
    "Set all except the last bit to 0.\n",
    "\n",
    "Set the last bit to 1.\n",
    "\n",
    "`01000001`\n",
    "\n",
    "That makes 65.\n",
    "\n",
    "Set the third bit to 1 and that makes 97.\n",
    "\n",
    "`01100001`\n",
    "\n",
    "I learned this tidbit here:\n",
    "\n",
    "[![Characters, Symbols, and the Unicode Miracle](https://img.youtube.com/vi/MijmeoH9LT4/0.jpg)](https://www.youtube.com/watch?v=MijmeoH9LT4)\n"
   ]
  },
  {
   "cell_type": "code",
   "execution_count": 126,
   "metadata": {},
   "outputs": [],
   "source": [
    "var [UPPERCASE, LOWERCASE] = [\n",
    "    0b01000001, // 65\n",
    "    0b01100001, // 97\n",
    "].map(n => String.fromCharCode(...range(n, n+26)))"
   ]
  },
  {
   "cell_type": "code",
   "execution_count": 127,
   "metadata": {},
   "outputs": [
    {
     "name": "stdout",
     "output_type": "stream",
     "text": [
      "[ 0, 'A', 'a' ]\n",
      "[ 1, 'B', 'b' ]\n",
      "[ 2, 'C', 'c' ]\n",
      "[ 3, 'D', 'd' ]\n",
      "[ 4, 'E', 'e' ]\n",
      "[ 5, 'F', 'f' ]\n",
      "[ 6, 'G', 'g' ]\n",
      "[ 7, 'H', 'h' ]\n",
      "[ 8, 'I', 'i' ]\n",
      "[ 9, 'J', 'j' ]\n",
      "[ 10, 'K', 'k' ]\n",
      "[ 11, 'L', 'l' ]\n",
      "[ 12, 'M', 'm' ]\n",
      "[ 13, 'N', 'n' ]\n",
      "[ 14, 'O', 'o' ]\n",
      "[ 15, 'P', 'p' ]\n",
      "[ 16, 'Q', 'q' ]\n",
      "[ 17, 'R', 'r' ]\n",
      "[ 18, 'S', 's' ]\n",
      "[ 19, 'T', 't' ]\n",
      "[ 20, 'U', 'u' ]\n",
      "[ 21, 'V', 'v' ]\n",
      "[ 22, 'W', 'w' ]\n",
      "[ 23, 'X', 'x' ]\n",
      "[ 24, 'Y', 'y' ]\n",
      "[ 25, 'Z', 'z' ]\n"
     ]
    }
   ],
   "source": [
    "for (let item of zip(range(0, 26, 1), iter(UPPERCASE), iter(LOWERCASE))){\n",
    "    console.log(item);\n",
    "}"
   ]
  }
 ],
 "metadata": {
  "kernelspec": {
   "display_name": "Javascript (Node.js)",
   "language": "javascript",
   "name": "javascript"
  },
  "language_info": {
   "file_extension": ".js",
   "mimetype": "application/javascript",
   "name": "javascript",
   "version": "12.5.0"
  },
  "nikola": {
   "category": "",
   "date": "2019-10-03 11:44:58 UTC",
   "description": "Examples of JavaScript generators including a lazy zip.",
   "link": "",
   "previewimage": "http://bit.ly/2obEcaG",
   "slug": "generators-in-javascript-a-lazy-zip",
   "tags": "code, javascript, morning commute, examples",
   "title": "Generators in JavaScript: A Lazy Zip",
   "type": "text"
  }
 },
 "nbformat": 4,
 "nbformat_minor": 2
}
